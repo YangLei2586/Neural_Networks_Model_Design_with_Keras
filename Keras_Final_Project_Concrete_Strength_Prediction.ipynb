{
 "cells": [
  {
   "cell_type": "markdown",
   "metadata": {},
   "source": [
    "### Download and load Data"
   ]
  },
  {
   "cell_type": "code",
   "execution_count": 2,
   "metadata": {},
   "outputs": [],
   "source": [
    "import pandas as pd\n",
    "import numpy as np"
   ]
  },
  {
   "cell_type": "code",
   "execution_count": 4,
   "metadata": {},
   "outputs": [
    {
     "data": {
      "text/html": [
       "<div>\n",
       "<style scoped>\n",
       "    .dataframe tbody tr th:only-of-type {\n",
       "        vertical-align: middle;\n",
       "    }\n",
       "\n",
       "    .dataframe tbody tr th {\n",
       "        vertical-align: top;\n",
       "    }\n",
       "\n",
       "    .dataframe thead th {\n",
       "        text-align: right;\n",
       "    }\n",
       "</style>\n",
       "<table border=\"1\" class=\"dataframe\">\n",
       "  <thead>\n",
       "    <tr style=\"text-align: right;\">\n",
       "      <th></th>\n",
       "      <th>Cement</th>\n",
       "      <th>Blast Furnace Slag</th>\n",
       "      <th>Fly Ash</th>\n",
       "      <th>Water</th>\n",
       "      <th>Superplasticizer</th>\n",
       "      <th>Coarse Aggregate</th>\n",
       "      <th>Fine Aggregate</th>\n",
       "      <th>Age</th>\n",
       "      <th>Strength</th>\n",
       "    </tr>\n",
       "  </thead>\n",
       "  <tbody>\n",
       "    <tr>\n",
       "      <th>0</th>\n",
       "      <td>540.0</td>\n",
       "      <td>0.0</td>\n",
       "      <td>0.0</td>\n",
       "      <td>162.0</td>\n",
       "      <td>2.5</td>\n",
       "      <td>1040.0</td>\n",
       "      <td>676.0</td>\n",
       "      <td>28</td>\n",
       "      <td>79.99</td>\n",
       "    </tr>\n",
       "    <tr>\n",
       "      <th>1</th>\n",
       "      <td>540.0</td>\n",
       "      <td>0.0</td>\n",
       "      <td>0.0</td>\n",
       "      <td>162.0</td>\n",
       "      <td>2.5</td>\n",
       "      <td>1055.0</td>\n",
       "      <td>676.0</td>\n",
       "      <td>28</td>\n",
       "      <td>61.89</td>\n",
       "    </tr>\n",
       "    <tr>\n",
       "      <th>2</th>\n",
       "      <td>332.5</td>\n",
       "      <td>142.5</td>\n",
       "      <td>0.0</td>\n",
       "      <td>228.0</td>\n",
       "      <td>0.0</td>\n",
       "      <td>932.0</td>\n",
       "      <td>594.0</td>\n",
       "      <td>270</td>\n",
       "      <td>40.27</td>\n",
       "    </tr>\n",
       "    <tr>\n",
       "      <th>3</th>\n",
       "      <td>332.5</td>\n",
       "      <td>142.5</td>\n",
       "      <td>0.0</td>\n",
       "      <td>228.0</td>\n",
       "      <td>0.0</td>\n",
       "      <td>932.0</td>\n",
       "      <td>594.0</td>\n",
       "      <td>365</td>\n",
       "      <td>41.05</td>\n",
       "    </tr>\n",
       "    <tr>\n",
       "      <th>4</th>\n",
       "      <td>198.6</td>\n",
       "      <td>132.4</td>\n",
       "      <td>0.0</td>\n",
       "      <td>192.0</td>\n",
       "      <td>0.0</td>\n",
       "      <td>978.4</td>\n",
       "      <td>825.5</td>\n",
       "      <td>360</td>\n",
       "      <td>44.30</td>\n",
       "    </tr>\n",
       "  </tbody>\n",
       "</table>\n",
       "</div>"
      ],
      "text/plain": [
       "   Cement  Blast Furnace Slag  Fly Ash  Water  Superplasticizer  \\\n",
       "0   540.0                 0.0      0.0  162.0               2.5   \n",
       "1   540.0                 0.0      0.0  162.0               2.5   \n",
       "2   332.5               142.5      0.0  228.0               0.0   \n",
       "3   332.5               142.5      0.0  228.0               0.0   \n",
       "4   198.6               132.4      0.0  192.0               0.0   \n",
       "\n",
       "   Coarse Aggregate  Fine Aggregate  Age  Strength  \n",
       "0            1040.0           676.0   28     79.99  \n",
       "1            1055.0           676.0   28     61.89  \n",
       "2             932.0           594.0  270     40.27  \n",
       "3             932.0           594.0  365     41.05  \n",
       "4             978.4           825.5  360     44.30  "
      ]
     },
     "execution_count": 4,
     "metadata": {},
     "output_type": "execute_result"
    }
   ],
   "source": [
    "concrete_data = pd.read_csv('https://cocl.us/concrete_data')\n",
    "concrete_data.head()"
   ]
  },
  {
   "cell_type": "markdown",
   "metadata": {},
   "source": [
    "So, as the table above indicates that the first concrete sample has 540 cubic meter of cement, 0 cubic meter of blast furnace slag, 0 cubic meter of fly ash, 162 cubic meter of water, 2.5 cubic meter of superplaticizer, 1040 cubic meter of coarse aggregate, 676 cubic meter of fine aggregate. Such a concrete mix which is 28 days old, has a compressive strength of 79.99 MPa."
   ]
  },
  {
   "cell_type": "markdown",
   "metadata": {},
   "source": [
    "Let's see how many data points we have and whether this dataset contains any missing values"
   ]
  },
  {
   "cell_type": "code",
   "execution_count": 5,
   "metadata": {},
   "outputs": [
    {
     "data": {
      "text/plain": [
       "(1030, 9)"
      ]
     },
     "execution_count": 5,
     "metadata": {},
     "output_type": "execute_result"
    }
   ],
   "source": [
    "concrete_data.shape"
   ]
  },
  {
   "cell_type": "code",
   "execution_count": 6,
   "metadata": {},
   "outputs": [
    {
     "data": {
      "text/html": [
       "<div>\n",
       "<style scoped>\n",
       "    .dataframe tbody tr th:only-of-type {\n",
       "        vertical-align: middle;\n",
       "    }\n",
       "\n",
       "    .dataframe tbody tr th {\n",
       "        vertical-align: top;\n",
       "    }\n",
       "\n",
       "    .dataframe thead th {\n",
       "        text-align: right;\n",
       "    }\n",
       "</style>\n",
       "<table border=\"1\" class=\"dataframe\">\n",
       "  <thead>\n",
       "    <tr style=\"text-align: right;\">\n",
       "      <th></th>\n",
       "      <th>Cement</th>\n",
       "      <th>Blast Furnace Slag</th>\n",
       "      <th>Fly Ash</th>\n",
       "      <th>Water</th>\n",
       "      <th>Superplasticizer</th>\n",
       "      <th>Coarse Aggregate</th>\n",
       "      <th>Fine Aggregate</th>\n",
       "      <th>Age</th>\n",
       "      <th>Strength</th>\n",
       "    </tr>\n",
       "  </thead>\n",
       "  <tbody>\n",
       "    <tr>\n",
       "      <th>count</th>\n",
       "      <td>1030.000000</td>\n",
       "      <td>1030.000000</td>\n",
       "      <td>1030.000000</td>\n",
       "      <td>1030.000000</td>\n",
       "      <td>1030.000000</td>\n",
       "      <td>1030.000000</td>\n",
       "      <td>1030.000000</td>\n",
       "      <td>1030.000000</td>\n",
       "      <td>1030.000000</td>\n",
       "    </tr>\n",
       "    <tr>\n",
       "      <th>mean</th>\n",
       "      <td>281.167864</td>\n",
       "      <td>73.895825</td>\n",
       "      <td>54.188350</td>\n",
       "      <td>181.567282</td>\n",
       "      <td>6.204660</td>\n",
       "      <td>972.918932</td>\n",
       "      <td>773.580485</td>\n",
       "      <td>45.662136</td>\n",
       "      <td>35.817961</td>\n",
       "    </tr>\n",
       "    <tr>\n",
       "      <th>std</th>\n",
       "      <td>104.506364</td>\n",
       "      <td>86.279342</td>\n",
       "      <td>63.997004</td>\n",
       "      <td>21.354219</td>\n",
       "      <td>5.973841</td>\n",
       "      <td>77.753954</td>\n",
       "      <td>80.175980</td>\n",
       "      <td>63.169912</td>\n",
       "      <td>16.705742</td>\n",
       "    </tr>\n",
       "    <tr>\n",
       "      <th>min</th>\n",
       "      <td>102.000000</td>\n",
       "      <td>0.000000</td>\n",
       "      <td>0.000000</td>\n",
       "      <td>121.800000</td>\n",
       "      <td>0.000000</td>\n",
       "      <td>801.000000</td>\n",
       "      <td>594.000000</td>\n",
       "      <td>1.000000</td>\n",
       "      <td>2.330000</td>\n",
       "    </tr>\n",
       "    <tr>\n",
       "      <th>25%</th>\n",
       "      <td>192.375000</td>\n",
       "      <td>0.000000</td>\n",
       "      <td>0.000000</td>\n",
       "      <td>164.900000</td>\n",
       "      <td>0.000000</td>\n",
       "      <td>932.000000</td>\n",
       "      <td>730.950000</td>\n",
       "      <td>7.000000</td>\n",
       "      <td>23.710000</td>\n",
       "    </tr>\n",
       "    <tr>\n",
       "      <th>50%</th>\n",
       "      <td>272.900000</td>\n",
       "      <td>22.000000</td>\n",
       "      <td>0.000000</td>\n",
       "      <td>185.000000</td>\n",
       "      <td>6.400000</td>\n",
       "      <td>968.000000</td>\n",
       "      <td>779.500000</td>\n",
       "      <td>28.000000</td>\n",
       "      <td>34.445000</td>\n",
       "    </tr>\n",
       "    <tr>\n",
       "      <th>75%</th>\n",
       "      <td>350.000000</td>\n",
       "      <td>142.950000</td>\n",
       "      <td>118.300000</td>\n",
       "      <td>192.000000</td>\n",
       "      <td>10.200000</td>\n",
       "      <td>1029.400000</td>\n",
       "      <td>824.000000</td>\n",
       "      <td>56.000000</td>\n",
       "      <td>46.135000</td>\n",
       "    </tr>\n",
       "    <tr>\n",
       "      <th>max</th>\n",
       "      <td>540.000000</td>\n",
       "      <td>359.400000</td>\n",
       "      <td>200.100000</td>\n",
       "      <td>247.000000</td>\n",
       "      <td>32.200000</td>\n",
       "      <td>1145.000000</td>\n",
       "      <td>992.600000</td>\n",
       "      <td>365.000000</td>\n",
       "      <td>82.600000</td>\n",
       "    </tr>\n",
       "  </tbody>\n",
       "</table>\n",
       "</div>"
      ],
      "text/plain": [
       "            Cement  Blast Furnace Slag      Fly Ash        Water  \\\n",
       "count  1030.000000         1030.000000  1030.000000  1030.000000   \n",
       "mean    281.167864           73.895825    54.188350   181.567282   \n",
       "std     104.506364           86.279342    63.997004    21.354219   \n",
       "min     102.000000            0.000000     0.000000   121.800000   \n",
       "25%     192.375000            0.000000     0.000000   164.900000   \n",
       "50%     272.900000           22.000000     0.000000   185.000000   \n",
       "75%     350.000000          142.950000   118.300000   192.000000   \n",
       "max     540.000000          359.400000   200.100000   247.000000   \n",
       "\n",
       "       Superplasticizer  Coarse Aggregate  Fine Aggregate          Age  \\\n",
       "count       1030.000000       1030.000000     1030.000000  1030.000000   \n",
       "mean           6.204660        972.918932      773.580485    45.662136   \n",
       "std            5.973841         77.753954       80.175980    63.169912   \n",
       "min            0.000000        801.000000      594.000000     1.000000   \n",
       "25%            0.000000        932.000000      730.950000     7.000000   \n",
       "50%            6.400000        968.000000      779.500000    28.000000   \n",
       "75%           10.200000       1029.400000      824.000000    56.000000   \n",
       "max           32.200000       1145.000000      992.600000   365.000000   \n",
       "\n",
       "          Strength  \n",
       "count  1030.000000  \n",
       "mean     35.817961  \n",
       "std      16.705742  \n",
       "min       2.330000  \n",
       "25%      23.710000  \n",
       "50%      34.445000  \n",
       "75%      46.135000  \n",
       "max      82.600000  "
      ]
     },
     "execution_count": 6,
     "metadata": {},
     "output_type": "execute_result"
    }
   ],
   "source": [
    "concrete_data.describe()"
   ]
  },
  {
   "cell_type": "code",
   "execution_count": 7,
   "metadata": {},
   "outputs": [
    {
     "data": {
      "text/plain": [
       "Cement                0\n",
       "Blast Furnace Slag    0\n",
       "Fly Ash               0\n",
       "Water                 0\n",
       "Superplasticizer      0\n",
       "Coarse Aggregate      0\n",
       "Fine Aggregate        0\n",
       "Age                   0\n",
       "Strength              0\n",
       "dtype: int64"
      ]
     },
     "execution_count": 7,
     "metadata": {},
     "output_type": "execute_result"
    }
   ],
   "source": [
    "concrete_data.isnull().sum()"
   ]
  },
  {
   "cell_type": "markdown",
   "metadata": {},
   "source": [
    "The data looks clean and is ready to be used for model creation "
   ]
  },
  {
   "cell_type": "markdown",
   "metadata": {},
   "source": [
    "#### Split data into predictors and target"
   ]
  },
  {
   "cell_type": "code",
   "execution_count": 9,
   "metadata": {},
   "outputs": [
    {
     "data": {
      "text/html": [
       "<div>\n",
       "<style scoped>\n",
       "    .dataframe tbody tr th:only-of-type {\n",
       "        vertical-align: middle;\n",
       "    }\n",
       "\n",
       "    .dataframe tbody tr th {\n",
       "        vertical-align: top;\n",
       "    }\n",
       "\n",
       "    .dataframe thead th {\n",
       "        text-align: right;\n",
       "    }\n",
       "</style>\n",
       "<table border=\"1\" class=\"dataframe\">\n",
       "  <thead>\n",
       "    <tr style=\"text-align: right;\">\n",
       "      <th></th>\n",
       "      <th>Cement</th>\n",
       "      <th>Blast Furnace Slag</th>\n",
       "      <th>Fly Ash</th>\n",
       "      <th>Water</th>\n",
       "      <th>Superplasticizer</th>\n",
       "      <th>Coarse Aggregate</th>\n",
       "      <th>Fine Aggregate</th>\n",
       "      <th>Age</th>\n",
       "    </tr>\n",
       "  </thead>\n",
       "  <tbody>\n",
       "    <tr>\n",
       "      <th>0</th>\n",
       "      <td>540.0</td>\n",
       "      <td>0.0</td>\n",
       "      <td>0.0</td>\n",
       "      <td>162.0</td>\n",
       "      <td>2.5</td>\n",
       "      <td>1040.0</td>\n",
       "      <td>676.0</td>\n",
       "      <td>28</td>\n",
       "    </tr>\n",
       "    <tr>\n",
       "      <th>1</th>\n",
       "      <td>540.0</td>\n",
       "      <td>0.0</td>\n",
       "      <td>0.0</td>\n",
       "      <td>162.0</td>\n",
       "      <td>2.5</td>\n",
       "      <td>1055.0</td>\n",
       "      <td>676.0</td>\n",
       "      <td>28</td>\n",
       "    </tr>\n",
       "    <tr>\n",
       "      <th>2</th>\n",
       "      <td>332.5</td>\n",
       "      <td>142.5</td>\n",
       "      <td>0.0</td>\n",
       "      <td>228.0</td>\n",
       "      <td>0.0</td>\n",
       "      <td>932.0</td>\n",
       "      <td>594.0</td>\n",
       "      <td>270</td>\n",
       "    </tr>\n",
       "    <tr>\n",
       "      <th>3</th>\n",
       "      <td>332.5</td>\n",
       "      <td>142.5</td>\n",
       "      <td>0.0</td>\n",
       "      <td>228.0</td>\n",
       "      <td>0.0</td>\n",
       "      <td>932.0</td>\n",
       "      <td>594.0</td>\n",
       "      <td>365</td>\n",
       "    </tr>\n",
       "    <tr>\n",
       "      <th>4</th>\n",
       "      <td>198.6</td>\n",
       "      <td>132.4</td>\n",
       "      <td>0.0</td>\n",
       "      <td>192.0</td>\n",
       "      <td>0.0</td>\n",
       "      <td>978.4</td>\n",
       "      <td>825.5</td>\n",
       "      <td>360</td>\n",
       "    </tr>\n",
       "  </tbody>\n",
       "</table>\n",
       "</div>"
      ],
      "text/plain": [
       "   Cement  Blast Furnace Slag  Fly Ash  Water  Superplasticizer  \\\n",
       "0   540.0                 0.0      0.0  162.0               2.5   \n",
       "1   540.0                 0.0      0.0  162.0               2.5   \n",
       "2   332.5               142.5      0.0  228.0               0.0   \n",
       "3   332.5               142.5      0.0  228.0               0.0   \n",
       "4   198.6               132.4      0.0  192.0               0.0   \n",
       "\n",
       "   Coarse Aggregate  Fine Aggregate  Age  \n",
       "0            1040.0           676.0   28  \n",
       "1            1055.0           676.0   28  \n",
       "2             932.0           594.0  270  \n",
       "3             932.0           594.0  365  \n",
       "4             978.4           825.5  360  "
      ]
     },
     "execution_count": 9,
     "metadata": {},
     "output_type": "execute_result"
    }
   ],
   "source": [
    "concrete_data_columns = concrete_data.columns \n",
    "\n",
    "predictors = concrete_data[concrete_data_columns[concrete_data_columns != 'Strength']] \n",
    "target = concrete_data['Strength']\n",
    "predictors.head()"
   ]
  },
  {
   "cell_type": "code",
   "execution_count": 10,
   "metadata": {},
   "outputs": [
    {
     "data": {
      "text/plain": [
       "8"
      ]
     },
     "execution_count": 10,
     "metadata": {},
     "output_type": "execute_result"
    }
   ],
   "source": [
    "predictors.shape[1]"
   ]
  },
  {
   "cell_type": "code",
   "execution_count": 11,
   "metadata": {},
   "outputs": [
    {
     "data": {
      "text/plain": [
       "0    79.99\n",
       "1    61.89\n",
       "2    40.27\n",
       "3    41.05\n",
       "4    44.30\n",
       "Name: Strength, dtype: float64"
      ]
     },
     "execution_count": 11,
     "metadata": {},
     "output_type": "execute_result"
    }
   ],
   "source": [
    "target.head()"
   ]
  },
  {
   "cell_type": "markdown",
   "metadata": {},
   "source": [
    "### Part A: Create the Baseline Model"
   ]
  },
  {
   "cell_type": "code",
   "execution_count": 12,
   "metadata": {},
   "outputs": [
    {
     "name": "stdout",
     "output_type": "stream",
     "text": [
      "Train set: (721, 8) (721,)\n",
      "Test set: (309, 8) (309,)\n"
     ]
    }
   ],
   "source": [
    "# Split the data into train dataset and test dataset \n",
    "\n",
    "from sklearn.model_selection import train_test_split\n",
    "\n",
    "predictors_train, predictors_test, target_train, target_test = train_test_split(predictors, target, test_size=0.3, random_state=4)\n",
    "print('Train set:', predictors_train.shape, target_train.shape)\n",
    "print('Test set:', predictors_test.shape, target_test.shape)"
   ]
  },
  {
   "cell_type": "code",
   "execution_count": 13,
   "metadata": {},
   "outputs": [],
   "source": [
    "import keras\n",
    "from keras.models import Sequential \n",
    "from keras.layers import Dense"
   ]
  },
  {
   "cell_type": "markdown",
   "metadata": {},
   "source": [
    "#### Create a function that defines our regression model for us so that we can conveninetly call it to create our model"
   ]
  },
  {
   "cell_type": "code",
   "execution_count": 14,
   "metadata": {},
   "outputs": [],
   "source": [
    "# define the model\n",
    "def regression_model():\n",
    "    # create model\n",
    "    model = Sequential()\n",
    "    n_cols = predictors.shape[1]\n",
    "    model.add(Dense(10, activation = 'relu', input_shape=(n_cols,)))\n",
    "    model.add(Dense(1))\n",
    "    \n",
    "    # compile the model\n",
    "    model.compile(optimizer='adam', loss='mean_squared_error')\n",
    "    return model"
   ]
  },
  {
   "cell_type": "markdown",
   "metadata": {},
   "source": [
    "The above baseline model that has one hidden layer of 10 nodes, a ReLu activation function, Use Adam optimizer and the Mean Squared Error as the loss function."
   ]
  },
  {
   "cell_type": "markdown",
   "metadata": {},
   "source": [
    "#### Train and Evaluate the model"
   ]
  },
  {
   "cell_type": "code",
   "execution_count": 15,
   "metadata": {},
   "outputs": [],
   "source": [
    "# Build the model\n",
    "model = regression_model()"
   ]
  },
  {
   "cell_type": "code",
   "execution_count": 16,
   "metadata": {},
   "outputs": [
    {
     "name": "stdout",
     "output_type": "stream",
     "text": [
      "Epoch 1/50\n",
      " - 0s - loss: 84767.4399\n",
      "Epoch 2/50\n",
      " - 0s - loss: 26470.1070\n",
      "Epoch 3/50\n",
      " - 0s - loss: 5099.2483\n",
      "Epoch 4/50\n",
      " - 0s - loss: 927.7107\n",
      "Epoch 5/50\n",
      " - 0s - loss: 627.3328\n",
      "Epoch 6/50\n",
      " - 0s - loss: 617.1181\n",
      "Epoch 7/50\n",
      " - 0s - loss: 600.3272\n",
      "Epoch 8/50\n",
      " - 0s - loss: 585.2118\n",
      "Epoch 9/50\n",
      " - 0s - loss: 570.5773\n",
      "Epoch 10/50\n",
      " - 0s - loss: 554.5779\n",
      "Epoch 11/50\n",
      " - 0s - loss: 540.5643\n",
      "Epoch 12/50\n",
      " - 0s - loss: 524.4924\n",
      "Epoch 13/50\n",
      " - 0s - loss: 509.9996\n",
      "Epoch 14/50\n",
      " - 0s - loss: 495.7943\n",
      "Epoch 15/50\n",
      " - 0s - loss: 481.0937\n",
      "Epoch 16/50\n",
      " - 0s - loss: 467.4966\n",
      "Epoch 17/50\n",
      " - 0s - loss: 455.2483\n",
      "Epoch 18/50\n",
      " - 0s - loss: 443.0321\n",
      "Epoch 19/50\n",
      " - 0s - loss: 428.6238\n",
      "Epoch 20/50\n",
      " - 0s - loss: 417.6832\n",
      "Epoch 21/50\n",
      " - 0s - loss: 406.4416\n",
      "Epoch 22/50\n",
      " - 0s - loss: 395.9177\n",
      "Epoch 23/50\n",
      " - 0s - loss: 385.6465\n",
      "Epoch 24/50\n",
      " - 0s - loss: 376.3878\n",
      "Epoch 25/50\n",
      " - 0s - loss: 369.2497\n",
      "Epoch 26/50\n",
      " - 0s - loss: 359.6609\n",
      "Epoch 27/50\n",
      " - 0s - loss: 352.4573\n",
      "Epoch 28/50\n",
      " - 0s - loss: 344.0099\n",
      "Epoch 29/50\n",
      " - 0s - loss: 336.7698\n",
      "Epoch 30/50\n",
      " - 0s - loss: 330.6742\n",
      "Epoch 31/50\n",
      " - 0s - loss: 324.4468\n",
      "Epoch 32/50\n",
      " - 0s - loss: 317.9667\n",
      "Epoch 33/50\n",
      " - 0s - loss: 313.2874\n",
      "Epoch 34/50\n",
      " - 0s - loss: 307.8611\n",
      "Epoch 35/50\n",
      " - 0s - loss: 303.1087\n",
      "Epoch 36/50\n",
      " - 0s - loss: 297.9693\n",
      "Epoch 37/50\n",
      " - 0s - loss: 293.2031\n",
      "Epoch 38/50\n",
      " - 0s - loss: 289.2516\n",
      "Epoch 39/50\n",
      " - 0s - loss: 284.9808\n",
      "Epoch 40/50\n",
      " - 0s - loss: 282.2296\n",
      "Epoch 41/50\n",
      " - 0s - loss: 278.0871\n",
      "Epoch 42/50\n",
      " - 0s - loss: 274.8739\n",
      "Epoch 43/50\n",
      " - 0s - loss: 271.2574\n",
      "Epoch 44/50\n",
      " - 0s - loss: 269.3987\n",
      "Epoch 45/50\n",
      " - 0s - loss: 265.8110\n",
      "Epoch 46/50\n",
      " - 0s - loss: 264.6434\n",
      "Epoch 47/50\n",
      " - 0s - loss: 260.3554\n",
      "Epoch 48/50\n",
      " - 0s - loss: 256.0303\n",
      "Epoch 49/50\n",
      " - 0s - loss: 254.4745\n",
      "Epoch 50/50\n",
      " - 0s - loss: 252.5376\n"
     ]
    },
    {
     "data": {
      "text/plain": [
       "<keras.callbacks.callbacks.History at 0x27d0f73bfd0>"
      ]
     },
     "execution_count": 16,
     "metadata": {},
     "output_type": "execute_result"
    }
   ],
   "source": [
    "# fit the model\n",
    "model.fit(predictors_train, target_train, epochs=50, verbose=2)"
   ]
  },
  {
   "cell_type": "code",
   "execution_count": 17,
   "metadata": {},
   "outputs": [
    {
     "name": "stdout",
     "output_type": "stream",
     "text": [
      "309/309 [==============================] - 0s 42us/step\n"
     ]
    },
    {
     "data": {
      "text/plain": [
       "293.05788671005894"
      ]
     },
     "execution_count": 17,
     "metadata": {},
     "output_type": "execute_result"
    }
   ],
   "source": [
    "# Evaluate the model\n",
    "pred_loss = model.evaluate(predictors_test, target_test)\n",
    "pred_loss"
   ]
  },
  {
   "cell_type": "markdown",
   "metadata": {},
   "source": [
    "#### Repeat step 1 to step 3 for 50 times and create a list of 50 mean squared errors"
   ]
  },
  {
   "cell_type": "code",
   "execution_count": 18,
   "metadata": {},
   "outputs": [],
   "source": [
    "losses = []\n",
    "for i in range(50):\n",
    "        model.fit(predictors_train, target_train, epochs=50,verbose=0)\n",
    "        pred_loss = model.evaluate(predictors_test, target_test, verbose=0)\n",
    "        losses.append(pred_loss)\n",
    "        preds = model.predict(predictors_test)"
   ]
  },
  {
   "cell_type": "markdown",
   "metadata": {},
   "source": [
    "#### Report the mean and the standard deviation of the mean squared errors"
   ]
  },
  {
   "cell_type": "code",
   "execution_count": 20,
   "metadata": {},
   "outputs": [
    {
     "name": "stdout",
     "output_type": "stream",
     "text": [
      "Mdoel A: Mean of losses is 88.7262387544206 \n",
      "\n",
      "\n",
      "Model A: Standard Deviation of losses is 36.13764574668182 \n"
     ]
    }
   ],
   "source": [
    "import statistics \n",
    "from statistics import stdev \n",
    "\n",
    "\n",
    "print(\"Mdoel A: Mean of losses is % s \" % (statistics.mean(losses))) \n",
    "print('\\n')\n",
    "print(\"Model A: Standard Deviation of losses is % s \" % (statistics.stdev(losses))) "
   ]
  },
  {
   "cell_type": "markdown",
   "metadata": {},
   "source": [
    "### Part B: Feed the Model Normalized Data "
   ]
  },
  {
   "cell_type": "markdown",
   "metadata": {},
   "source": [
    "#### Normalize the data"
   ]
  },
  {
   "cell_type": "code",
   "execution_count": 26,
   "metadata": {},
   "outputs": [
    {
     "data": {
      "text/html": [
       "<div>\n",
       "<style scoped>\n",
       "    .dataframe tbody tr th:only-of-type {\n",
       "        vertical-align: middle;\n",
       "    }\n",
       "\n",
       "    .dataframe tbody tr th {\n",
       "        vertical-align: top;\n",
       "    }\n",
       "\n",
       "    .dataframe thead th {\n",
       "        text-align: right;\n",
       "    }\n",
       "</style>\n",
       "<table border=\"1\" class=\"dataframe\">\n",
       "  <thead>\n",
       "    <tr style=\"text-align: right;\">\n",
       "      <th></th>\n",
       "      <th>Cement</th>\n",
       "      <th>Blast Furnace Slag</th>\n",
       "      <th>Fly Ash</th>\n",
       "      <th>Water</th>\n",
       "      <th>Superplasticizer</th>\n",
       "      <th>Coarse Aggregate</th>\n",
       "      <th>Fine Aggregate</th>\n",
       "      <th>Age</th>\n",
       "    </tr>\n",
       "  </thead>\n",
       "  <tbody>\n",
       "    <tr>\n",
       "      <th>0</th>\n",
       "      <td>2.476712</td>\n",
       "      <td>-0.856472</td>\n",
       "      <td>-0.846733</td>\n",
       "      <td>-0.916319</td>\n",
       "      <td>-0.620147</td>\n",
       "      <td>0.862735</td>\n",
       "      <td>-1.217079</td>\n",
       "      <td>-0.279597</td>\n",
       "    </tr>\n",
       "    <tr>\n",
       "      <th>1</th>\n",
       "      <td>2.476712</td>\n",
       "      <td>-0.856472</td>\n",
       "      <td>-0.846733</td>\n",
       "      <td>-0.916319</td>\n",
       "      <td>-0.620147</td>\n",
       "      <td>1.055651</td>\n",
       "      <td>-1.217079</td>\n",
       "      <td>-0.279597</td>\n",
       "    </tr>\n",
       "    <tr>\n",
       "      <th>2</th>\n",
       "      <td>0.491187</td>\n",
       "      <td>0.795140</td>\n",
       "      <td>-0.846733</td>\n",
       "      <td>2.174405</td>\n",
       "      <td>-1.038638</td>\n",
       "      <td>-0.526262</td>\n",
       "      <td>-2.239829</td>\n",
       "      <td>3.551340</td>\n",
       "    </tr>\n",
       "    <tr>\n",
       "      <th>3</th>\n",
       "      <td>0.491187</td>\n",
       "      <td>0.795140</td>\n",
       "      <td>-0.846733</td>\n",
       "      <td>2.174405</td>\n",
       "      <td>-1.038638</td>\n",
       "      <td>-0.526262</td>\n",
       "      <td>-2.239829</td>\n",
       "      <td>5.055221</td>\n",
       "    </tr>\n",
       "    <tr>\n",
       "      <th>4</th>\n",
       "      <td>-0.790075</td>\n",
       "      <td>0.678079</td>\n",
       "      <td>-0.846733</td>\n",
       "      <td>0.488555</td>\n",
       "      <td>-1.038638</td>\n",
       "      <td>0.070492</td>\n",
       "      <td>0.647569</td>\n",
       "      <td>4.976069</td>\n",
       "    </tr>\n",
       "  </tbody>\n",
       "</table>\n",
       "</div>"
      ],
      "text/plain": [
       "     Cement  Blast Furnace Slag   Fly Ash     Water  Superplasticizer  \\\n",
       "0  2.476712           -0.856472 -0.846733 -0.916319         -0.620147   \n",
       "1  2.476712           -0.856472 -0.846733 -0.916319         -0.620147   \n",
       "2  0.491187            0.795140 -0.846733  2.174405         -1.038638   \n",
       "3  0.491187            0.795140 -0.846733  2.174405         -1.038638   \n",
       "4 -0.790075            0.678079 -0.846733  0.488555         -1.038638   \n",
       "\n",
       "   Coarse Aggregate  Fine Aggregate       Age  \n",
       "0          0.862735       -1.217079 -0.279597  \n",
       "1          1.055651       -1.217079 -0.279597  \n",
       "2         -0.526262       -2.239829  3.551340  \n",
       "3         -0.526262       -2.239829  5.055221  \n",
       "4          0.070492        0.647569  4.976069  "
      ]
     },
     "execution_count": 26,
     "metadata": {},
     "output_type": "execute_result"
    }
   ],
   "source": [
    "predictors_norm = (predictors - predictors.mean()) / predictors.std()\n",
    "predictors_norm.head()"
   ]
  },
  {
   "cell_type": "markdown",
   "metadata": {},
   "source": [
    "#### Split the data for training and testing"
   ]
  },
  {
   "cell_type": "code",
   "execution_count": 32,
   "metadata": {},
   "outputs": [
    {
     "name": "stdout",
     "output_type": "stream",
     "text": [
      "Train set: (721, 8) (721,)\n",
      "Test set: (309, 8) (309,)\n"
     ]
    }
   ],
   "source": [
    "from sklearn.model_selection import train_test_split\n",
    "predictors_train, predictors_test, target_train, target_test = train_test_split(predictors_norm, target, test_size=0.3, random_state=4)\n",
    "print('Train set:', predictors_train.shape, target_train.shape)\n",
    "print('Test set:', predictors_test.shape, target_test.shape)"
   ]
  },
  {
   "cell_type": "markdown",
   "metadata": {},
   "source": [
    "#### Train and Evaluate the model"
   ]
  },
  {
   "cell_type": "code",
   "execution_count": 23,
   "metadata": {},
   "outputs": [],
   "source": [
    "# Build the model\n",
    "model = regression_model()"
   ]
  },
  {
   "cell_type": "code",
   "execution_count": 27,
   "metadata": {},
   "outputs": [
    {
     "name": "stdout",
     "output_type": "stream",
     "text": [
      "Epoch 1/50\n",
      " - 0s - loss: 273.2515\n",
      "Epoch 2/50\n",
      " - 0s - loss: 262.9567\n",
      "Epoch 3/50\n",
      " - 0s - loss: 253.7825\n",
      "Epoch 4/50\n",
      " - 0s - loss: 245.2358\n",
      "Epoch 5/50\n",
      " - 0s - loss: 237.5335\n",
      "Epoch 6/50\n",
      " - 0s - loss: 230.6688\n",
      "Epoch 7/50\n",
      " - 0s - loss: 224.2369\n",
      "Epoch 8/50\n",
      " - 0s - loss: 218.5861\n",
      "Epoch 9/50\n",
      " - 0s - loss: 213.3020\n",
      "Epoch 10/50\n",
      " - 0s - loss: 208.5308\n",
      "Epoch 11/50\n",
      " - 0s - loss: 204.2182\n",
      "Epoch 12/50\n",
      " - 0s - loss: 200.3252\n",
      "Epoch 13/50\n",
      " - 0s - loss: 196.7164\n",
      "Epoch 14/50\n",
      " - 0s - loss: 193.4094\n",
      "Epoch 15/50\n",
      " - 0s - loss: 190.2924\n",
      "Epoch 16/50\n",
      " - 0s - loss: 187.4820\n",
      "Epoch 17/50\n",
      " - 0s - loss: 184.8369\n",
      "Epoch 18/50\n",
      " - 0s - loss: 182.4589\n",
      "Epoch 19/50\n",
      " - 0s - loss: 180.0968\n",
      "Epoch 20/50\n",
      " - 0s - loss: 178.0012\n",
      "Epoch 21/50\n",
      " - 0s - loss: 176.0404\n",
      "Epoch 22/50\n",
      " - 0s - loss: 174.1321\n",
      "Epoch 23/50\n",
      " - 0s - loss: 172.3849\n",
      "Epoch 24/50\n",
      " - 0s - loss: 170.8072\n",
      "Epoch 25/50\n",
      " - 0s - loss: 169.2868\n",
      "Epoch 26/50\n",
      " - 0s - loss: 167.7179\n",
      "Epoch 27/50\n",
      " - 0s - loss: 166.3657\n",
      "Epoch 28/50\n",
      " - 0s - loss: 164.9391\n",
      "Epoch 29/50\n",
      " - 0s - loss: 163.6757\n",
      "Epoch 30/50\n",
      " - 0s - loss: 162.4129\n",
      "Epoch 31/50\n",
      " - 0s - loss: 161.2348\n",
      "Epoch 32/50\n",
      " - 0s - loss: 160.0870\n",
      "Epoch 33/50\n",
      " - 0s - loss: 158.9637\n",
      "Epoch 34/50\n",
      " - 0s - loss: 157.9126\n",
      "Epoch 35/50\n",
      " - 0s - loss: 156.8057\n",
      "Epoch 36/50\n",
      " - 0s - loss: 155.8239\n",
      "Epoch 37/50\n",
      " - 0s - loss: 154.8899\n",
      "Epoch 38/50\n",
      " - 0s - loss: 153.9473\n",
      "Epoch 39/50\n",
      " - 0s - loss: 153.0340\n",
      "Epoch 40/50\n",
      " - 0s - loss: 152.0982\n",
      "Epoch 41/50\n",
      " - 0s - loss: 151.2673\n",
      "Epoch 42/50\n",
      " - 0s - loss: 150.4105\n",
      "Epoch 43/50\n",
      " - 0s - loss: 149.5570\n",
      "Epoch 44/50\n",
      " - 0s - loss: 148.7597\n",
      "Epoch 45/50\n",
      " - 0s - loss: 147.9928\n",
      "Epoch 46/50\n",
      " - 0s - loss: 147.2279\n",
      "Epoch 47/50\n",
      " - 0s - loss: 146.5174\n",
      "Epoch 48/50\n",
      " - 0s - loss: 145.7192\n",
      "Epoch 49/50\n",
      " - 0s - loss: 145.1023\n",
      "Epoch 50/50\n",
      " - 0s - loss: 144.5198\n"
     ]
    },
    {
     "data": {
      "text/plain": [
       "<keras.callbacks.callbacks.History at 0x27d0fc31470>"
      ]
     },
     "execution_count": 27,
     "metadata": {},
     "output_type": "execute_result"
    }
   ],
   "source": [
    "# fit the model\n",
    "model.fit(predictors_train, target_train, epochs=50, verbose=2)"
   ]
  },
  {
   "cell_type": "code",
   "execution_count": 28,
   "metadata": {},
   "outputs": [
    {
     "name": "stdout",
     "output_type": "stream",
     "text": [
      "309/309 [==============================] - 0s 45us/step\n"
     ]
    },
    {
     "data": {
      "text/plain": [
       "165.56653933231885"
      ]
     },
     "execution_count": 28,
     "metadata": {},
     "output_type": "execute_result"
    }
   ],
   "source": [
    "# Evaluate the model\n",
    "pred_loss = model.evaluate(predictors_test, target_test)\n",
    "pred_loss"
   ]
  },
  {
   "cell_type": "markdown",
   "metadata": {},
   "source": [
    "#### Repeat step 1 to step 3 for 50 times and create a list of 50 mean squared errors"
   ]
  },
  {
   "cell_type": "code",
   "execution_count": 38,
   "metadata": {},
   "outputs": [],
   "source": [
    "losses = []\n",
    "for i in range(50):\n",
    "        model.fit(predictors_train, target_train, epochs=50,verbose=0)\n",
    "        pred_loss = model.evaluate(predictors_test, target_test, verbose=0)\n",
    "        losses.append(pred_loss)\n",
    "        preds = model.predict(predictors_test)"
   ]
  },
  {
   "cell_type": "markdown",
   "metadata": {},
   "source": [
    "#### Report the mean and the standard deviation of the mean squared errors"
   ]
  },
  {
   "cell_type": "code",
   "execution_count": 39,
   "metadata": {},
   "outputs": [
    {
     "name": "stdout",
     "output_type": "stream",
     "text": [
      "Mdoel B: Mean of losses is 45.12774745509077 \n",
      "\n",
      "\n",
      "Model B: Standard Deviation of losses is 8.38101846035228 \n"
     ]
    }
   ],
   "source": [
    "print(\"Mdoel B: Mean of losses is % s \" % (statistics.mean(losses))) \n",
    "print('\\n')\n",
    "print(\"Model B: Standard Deviation of losses is % s \" % (statistics.stdev(losses))) "
   ]
  },
  {
   "cell_type": "markdown",
   "metadata": {},
   "source": [
    "### Part C: Repeat Part B but use 100 epochs for training"
   ]
  },
  {
   "cell_type": "markdown",
   "metadata": {},
   "source": [
    "#### Train the model using 100 epochs and Evaluate the model"
   ]
  },
  {
   "cell_type": "code",
   "execution_count": 44,
   "metadata": {},
   "outputs": [],
   "source": [
    "# Build the model\n",
    "model = regression_model()"
   ]
  },
  {
   "cell_type": "code",
   "execution_count": 45,
   "metadata": {},
   "outputs": [
    {
     "name": "stdout",
     "output_type": "stream",
     "text": [
      "Epoch 1/100\n",
      " - 0s - loss: 1586.4364\n",
      "Epoch 2/100\n",
      " - 0s - loss: 1570.3082\n",
      "Epoch 3/100\n",
      " - 0s - loss: 1553.6469\n",
      "Epoch 4/100\n",
      " - 0s - loss: 1536.7785\n",
      "Epoch 5/100\n",
      " - 0s - loss: 1519.1480\n",
      "Epoch 6/100\n",
      " - 0s - loss: 1500.4341\n",
      "Epoch 7/100\n",
      " - 0s - loss: 1481.0301\n",
      "Epoch 8/100\n",
      " - 0s - loss: 1460.2264\n",
      "Epoch 9/100\n",
      " - 0s - loss: 1438.9418\n",
      "Epoch 10/100\n",
      " - 0s - loss: 1415.8290\n",
      "Epoch 11/100\n",
      " - 0s - loss: 1391.9500\n",
      "Epoch 12/100\n",
      " - 0s - loss: 1367.3978\n",
      "Epoch 13/100\n",
      " - 0s - loss: 1340.8440\n",
      "Epoch 14/100\n",
      " - 0s - loss: 1314.3390\n",
      "Epoch 15/100\n",
      " - 0s - loss: 1285.9445\n",
      "Epoch 16/100\n",
      " - 0s - loss: 1257.8093\n",
      "Epoch 17/100\n",
      " - 0s - loss: 1228.1021\n",
      "Epoch 18/100\n",
      " - 0s - loss: 1198.3882\n",
      "Epoch 19/100\n",
      " - 0s - loss: 1168.2329\n",
      "Epoch 20/100\n",
      " - 0s - loss: 1137.5710\n",
      "Epoch 21/100\n",
      " - 0s - loss: 1106.9346\n",
      "Epoch 22/100\n",
      " - 0s - loss: 1075.5451\n",
      "Epoch 23/100\n",
      " - 0s - loss: 1044.4896\n",
      "Epoch 24/100\n",
      " - 0s - loss: 1012.9145\n",
      "Epoch 25/100\n",
      " - 0s - loss: 981.5769\n",
      "Epoch 26/100\n",
      " - 0s - loss: 950.9313\n",
      "Epoch 27/100\n",
      " - 0s - loss: 920.4617\n",
      "Epoch 28/100\n",
      " - 0s - loss: 889.6464\n",
      "Epoch 29/100\n",
      " - 0s - loss: 860.1116\n",
      "Epoch 30/100\n",
      " - 0s - loss: 830.3120\n",
      "Epoch 31/100\n",
      " - 0s - loss: 801.2028\n",
      "Epoch 32/100\n",
      " - 0s - loss: 773.0971\n",
      "Epoch 33/100\n",
      " - 0s - loss: 744.9780\n",
      "Epoch 34/100\n",
      " - 0s - loss: 718.3650\n",
      "Epoch 35/100\n",
      " - 0s - loss: 691.5568\n",
      "Epoch 36/100\n",
      " - 0s - loss: 666.0749\n",
      "Epoch 37/100\n",
      " - 0s - loss: 641.0766\n",
      "Epoch 38/100\n",
      " - 0s - loss: 617.0758\n",
      "Epoch 39/100\n",
      " - 0s - loss: 593.2872\n",
      "Epoch 40/100\n",
      " - 0s - loss: 570.7404\n",
      "Epoch 41/100\n",
      " - 0s - loss: 548.7651\n",
      "Epoch 42/100\n",
      " - 0s - loss: 527.1549\n",
      "Epoch 43/100\n",
      " - 0s - loss: 506.3561\n",
      "Epoch 44/100\n",
      " - 0s - loss: 486.3598\n",
      "Epoch 45/100\n",
      " - 0s - loss: 466.8368\n",
      "Epoch 46/100\n",
      " - 0s - loss: 447.7973\n",
      "Epoch 47/100\n",
      " - 0s - loss: 429.6648\n",
      "Epoch 48/100\n",
      " - 0s - loss: 412.0217\n",
      "Epoch 49/100\n",
      " - 0s - loss: 395.2427\n",
      "Epoch 50/100\n",
      " - 0s - loss: 379.2452\n",
      "Epoch 51/100\n",
      " - 0s - loss: 364.3178\n",
      "Epoch 52/100\n",
      " - 0s - loss: 349.7257\n",
      "Epoch 53/100\n",
      " - 0s - loss: 336.1433\n",
      "Epoch 54/100\n",
      " - 0s - loss: 323.6217\n",
      "Epoch 55/100\n",
      " - 0s - loss: 311.8476\n",
      "Epoch 56/100\n",
      " - 0s - loss: 300.7999\n",
      "Epoch 57/100\n",
      " - 0s - loss: 290.3872\n",
      "Epoch 58/100\n",
      " - 0s - loss: 280.7810\n",
      "Epoch 59/100\n",
      " - 0s - loss: 271.8113\n",
      "Epoch 60/100\n",
      " - 0s - loss: 263.6501\n",
      "Epoch 61/100\n",
      " - 0s - loss: 255.9885\n",
      "Epoch 62/100\n",
      " - 0s - loss: 248.8914\n",
      "Epoch 63/100\n",
      " - 0s - loss: 242.3956\n",
      "Epoch 64/100\n",
      " - 0s - loss: 236.2083\n",
      "Epoch 65/100\n",
      " - 0s - loss: 230.7394\n",
      "Epoch 66/100\n",
      " - 0s - loss: 225.5554\n",
      "Epoch 67/100\n",
      " - 0s - loss: 220.8174\n",
      "Epoch 68/100\n",
      " - 0s - loss: 216.5207\n",
      "Epoch 69/100\n",
      " - 0s - loss: 212.6510\n",
      "Epoch 70/100\n",
      " - 0s - loss: 209.0512\n",
      "Epoch 71/100\n",
      " - 0s - loss: 205.5839\n",
      "Epoch 72/100\n",
      " - 0s - loss: 202.5799\n",
      "Epoch 73/100\n",
      " - 0s - loss: 199.6500\n",
      "Epoch 74/100\n",
      " - 0s - loss: 196.9932\n",
      "Epoch 75/100\n",
      " - 0s - loss: 194.3997\n",
      "Epoch 76/100\n",
      " - 0s - loss: 192.1681\n",
      "Epoch 77/100\n",
      " - 0s - loss: 189.9790\n",
      "Epoch 78/100\n",
      " - 0s - loss: 187.9375\n",
      "Epoch 79/100\n",
      " - 0s - loss: 186.0151\n",
      "Epoch 80/100\n",
      " - 0s - loss: 184.0846\n",
      "Epoch 81/100\n",
      " - 0s - loss: 182.4496\n",
      "Epoch 82/100\n",
      " - 0s - loss: 180.7584\n",
      "Epoch 83/100\n",
      " - 0s - loss: 179.2280\n",
      "Epoch 84/100\n",
      " - 0s - loss: 177.8179\n",
      "Epoch 85/100\n",
      " - 0s - loss: 176.3753\n",
      "Epoch 86/100\n",
      " - 0s - loss: 175.0061\n",
      "Epoch 87/100\n",
      " - 0s - loss: 173.7278\n",
      "Epoch 88/100\n",
      " - 0s - loss: 172.4732\n",
      "Epoch 89/100\n",
      " - 0s - loss: 171.3243\n",
      "Epoch 90/100\n",
      " - 0s - loss: 170.1603\n",
      "Epoch 91/100\n",
      " - 0s - loss: 169.0658\n",
      "Epoch 92/100\n",
      " - 0s - loss: 167.9652\n",
      "Epoch 93/100\n",
      " - 0s - loss: 166.9385\n",
      "Epoch 94/100\n",
      " - 0s - loss: 165.9601\n",
      "Epoch 95/100\n",
      " - 0s - loss: 165.0002\n",
      "Epoch 96/100\n",
      " - 0s - loss: 164.1291\n",
      "Epoch 97/100\n",
      " - 0s - loss: 163.2849\n",
      "Epoch 98/100\n",
      " - 0s - loss: 162.4013\n",
      "Epoch 99/100\n",
      " - 0s - loss: 161.5858\n",
      "Epoch 100/100\n",
      " - 0s - loss: 160.7858\n"
     ]
    },
    {
     "data": {
      "text/plain": [
       "<keras.callbacks.callbacks.History at 0x27d1142b128>"
      ]
     },
     "execution_count": 45,
     "metadata": {},
     "output_type": "execute_result"
    }
   ],
   "source": [
    "# fit the model\n",
    "model.fit(predictors_train, target_train, epochs=100, verbose=2)"
   ]
  },
  {
   "cell_type": "code",
   "execution_count": 46,
   "metadata": {},
   "outputs": [
    {
     "name": "stdout",
     "output_type": "stream",
     "text": [
      "309/309 [==============================] - 0s 81us/step\n"
     ]
    },
    {
     "data": {
      "text/plain": [
       "180.36613084120273"
      ]
     },
     "execution_count": 46,
     "metadata": {},
     "output_type": "execute_result"
    }
   ],
   "source": [
    "# Evaluate the model\n",
    "pred_loss = model.evaluate(predictors_test, target_test)\n",
    "pred_loss"
   ]
  },
  {
   "cell_type": "markdown",
   "metadata": {},
   "source": [
    "#### Repeat step 1 to step 3 for 50 times and create a list of 50 mean squared errors"
   ]
  },
  {
   "cell_type": "code",
   "execution_count": 47,
   "metadata": {},
   "outputs": [],
   "source": [
    "losses = []\n",
    "for i in range(50):\n",
    "        model.fit(predictors_train, target_train, epochs=50,verbose=0)\n",
    "        pred_loss = model.evaluate(predictors_test, target_test, verbose=0)\n",
    "        losses.append(pred_loss)\n",
    "        preds = model.predict(predictors_test)"
   ]
  },
  {
   "cell_type": "markdown",
   "metadata": {},
   "source": [
    "#### Report the mean and the standard deviation of the mean squared errors"
   ]
  },
  {
   "cell_type": "code",
   "execution_count": 41,
   "metadata": {},
   "outputs": [
    {
     "name": "stdout",
     "output_type": "stream",
     "text": [
      "Mdoel C: Mean of losses is 41.45293532954836 \n",
      "\n",
      "\n",
      "Model C: Standard Deviation of losses is 0.35972173483323516 \n"
     ]
    }
   ],
   "source": [
    "print(\"Mdoel C: Mean of losses is % s \" % (statistics.mean(losses))) \n",
    "print('\\n')\n",
    "print(\"Model C: Standard Deviation of losses is % s \" % (statistics.stdev(losses))) "
   ]
  },
  {
   "cell_type": "markdown",
   "metadata": {},
   "source": [
    "### Part D: Repeat part B but Build a neural network with 3 hidden layers each of which has 10 nodes and ReLu activation "
   ]
  },
  {
   "cell_type": "code",
   "execution_count": 48,
   "metadata": {},
   "outputs": [],
   "source": [
    "# define regression model\n",
    "def regression_model():\n",
    "    # create model\n",
    "    model = Sequential()\n",
    "    n_cols = predictors.shape[1]\n",
    "    model.add(Dense(10, activation = 'relu', input_shape=(n_cols,)))\n",
    "    model.add(Dense(10,activation = 'relu'))\n",
    "    model.add(Dense(10,activation = 'relu'))\n",
    "    model.add(Dense(1))\n",
    "    \n",
    "    # compile the model\n",
    "    model.compile(optimizer='adam', loss='mean_squared_error')\n",
    "    return model"
   ]
  },
  {
   "cell_type": "code",
   "execution_count": 49,
   "metadata": {},
   "outputs": [],
   "source": [
    "# Build the model\n",
    "model = regression_model()"
   ]
  },
  {
   "cell_type": "code",
   "execution_count": 51,
   "metadata": {},
   "outputs": [
    {
     "name": "stdout",
     "output_type": "stream",
     "text": [
      "Epoch 1/50\n",
      " - 0s - loss: 103.3315\n",
      "Epoch 2/50\n",
      " - 0s - loss: 101.5237\n",
      "Epoch 3/50\n",
      " - 0s - loss: 99.8790\n",
      "Epoch 4/50\n",
      " - 0s - loss: 98.5594\n",
      "Epoch 5/50\n",
      " - 0s - loss: 96.8684\n",
      "Epoch 6/50\n",
      " - 0s - loss: 95.2787\n",
      "Epoch 7/50\n",
      " - 0s - loss: 93.7645\n",
      "Epoch 8/50\n",
      " - 0s - loss: 91.8484\n",
      "Epoch 9/50\n",
      " - 0s - loss: 90.2057\n",
      "Epoch 10/50\n",
      " - 0s - loss: 88.6616\n",
      "Epoch 11/50\n",
      " - 0s - loss: 87.2427\n",
      "Epoch 12/50\n",
      " - 0s - loss: 85.8461\n",
      "Epoch 13/50\n",
      " - 0s - loss: 84.1557\n",
      "Epoch 14/50\n",
      " - 0s - loss: 83.0485\n",
      "Epoch 15/50\n",
      " - 0s - loss: 81.5035\n",
      "Epoch 16/50\n",
      " - 0s - loss: 80.7381\n",
      "Epoch 17/50\n",
      " - 0s - loss: 79.2688\n",
      "Epoch 18/50\n",
      " - 0s - loss: 78.1710\n",
      "Epoch 19/50\n",
      " - 0s - loss: 77.1134\n",
      "Epoch 20/50\n",
      " - 0s - loss: 76.1611\n",
      "Epoch 21/50\n",
      " - 0s - loss: 75.4553\n",
      "Epoch 22/50\n",
      " - 0s - loss: 74.1809\n",
      "Epoch 23/50\n",
      " - 0s - loss: 72.9289\n",
      "Epoch 24/50\n",
      " - 0s - loss: 71.7492\n",
      "Epoch 25/50\n",
      " - 0s - loss: 70.9521\n",
      "Epoch 26/50\n",
      " - 0s - loss: 69.8057\n",
      "Epoch 27/50\n",
      " - 0s - loss: 68.8191\n",
      "Epoch 28/50\n",
      " - 0s - loss: 67.4558\n",
      "Epoch 29/50\n",
      " - 0s - loss: 66.2634\n",
      "Epoch 30/50\n",
      " - 0s - loss: 65.3354\n",
      "Epoch 31/50\n",
      " - 0s - loss: 64.2601\n",
      "Epoch 32/50\n",
      " - 0s - loss: 63.5318\n",
      "Epoch 33/50\n",
      " - 0s - loss: 62.8113\n",
      "Epoch 34/50\n",
      " - 0s - loss: 61.7355\n",
      "Epoch 35/50\n",
      " - 0s - loss: 60.9897\n",
      "Epoch 36/50\n",
      " - 0s - loss: 60.4020\n",
      "Epoch 37/50\n",
      " - 0s - loss: 59.8210\n",
      "Epoch 38/50\n",
      " - 0s - loss: 59.4615\n",
      "Epoch 39/50\n",
      " - 0s - loss: 58.7568\n",
      "Epoch 40/50\n",
      " - 0s - loss: 58.0007\n",
      "Epoch 41/50\n",
      " - 0s - loss: 57.4929\n",
      "Epoch 42/50\n",
      " - 0s - loss: 56.9031\n",
      "Epoch 43/50\n",
      " - 0s - loss: 56.3224\n",
      "Epoch 44/50\n",
      " - 0s - loss: 55.9731\n",
      "Epoch 45/50\n",
      " - 0s - loss: 55.8245\n",
      "Epoch 46/50\n",
      " - 0s - loss: 55.1162\n",
      "Epoch 47/50\n",
      " - 0s - loss: 54.2873\n",
      "Epoch 48/50\n",
      " - 0s - loss: 54.3186\n",
      "Epoch 49/50\n",
      " - 0s - loss: 53.9526\n",
      "Epoch 50/50\n",
      " - 0s - loss: 53.2604\n"
     ]
    },
    {
     "data": {
      "text/plain": [
       "<keras.callbacks.callbacks.History at 0x27d12066400>"
      ]
     },
     "execution_count": 51,
     "metadata": {},
     "output_type": "execute_result"
    }
   ],
   "source": [
    "# fit the model\n",
    "model.fit(predictors_train, target_train, epochs=50, verbose=2)"
   ]
  },
  {
   "cell_type": "code",
   "execution_count": 52,
   "metadata": {},
   "outputs": [
    {
     "name": "stdout",
     "output_type": "stream",
     "text": [
      "309/309 [==============================] - 0s 52us/step\n"
     ]
    },
    {
     "data": {
      "text/plain": [
       "63.2260259239419"
      ]
     },
     "execution_count": 52,
     "metadata": {},
     "output_type": "execute_result"
    }
   ],
   "source": [
    "# Evaluate the model\n",
    "pred_loss = model.evaluate(predictors_test, target_test)\n",
    "pred_loss"
   ]
  },
  {
   "cell_type": "markdown",
   "metadata": {},
   "source": [
    "#### Repeat step 1 to step 3 for 50 times and create a list of 50 mean squared errors"
   ]
  },
  {
   "cell_type": "code",
   "execution_count": 53,
   "metadata": {},
   "outputs": [],
   "source": [
    "losses = []\n",
    "for i in range(50):\n",
    "        model.fit(predictors_train, target_train, epochs=50,verbose=0)\n",
    "        pred_loss = model.evaluate(predictors_test, target_test, verbose=0)\n",
    "        losses.append(pred_loss)\n",
    "        preds = model.predict(predictors_test)"
   ]
  },
  {
   "cell_type": "markdown",
   "metadata": {},
   "source": [
    "#### Report the mean and the standard deviation of the mean squared errors"
   ]
  },
  {
   "cell_type": "code",
   "execution_count": 54,
   "metadata": {},
   "outputs": [
    {
     "name": "stdout",
     "output_type": "stream",
     "text": [
      "Mdoel D: Mean of losses is 35.35724790924961 \n",
      "\n",
      "\n",
      "Model D: Standard Deviation of losses is 4.14722717846581 \n"
     ]
    }
   ],
   "source": [
    "print(\"Mdoel D: Mean of losses is % s \" % (statistics.mean(losses))) \n",
    "print('\\n')\n",
    "print(\"Model D: Standard Deviation of losses is % s \" % (statistics.stdev(losses))) "
   ]
  },
  {
   "cell_type": "markdown",
   "metadata": {},
   "source": [
    "### Conclution of Model Building Experiements with different parameters "
   ]
  },
  {
   "cell_type": "markdown",
   "metadata": {},
   "source": [
    "#### Part A:\n",
    "   - Inputs of Model A are not normalized, neural network has 1 layer can be viewed as a very basic shellow neural network.\n",
    "   - Mean of MSEs is very high compared to the other models, along wiht high variance in terms of high Standard Deviation of MSEs."
   ]
  },
  {
   "cell_type": "markdown",
   "metadata": {},
   "source": [
    "#### Part B:\n",
    "- Input Data Normalization is helpful to imporve model performance because it can prevent the model giving greater weights on variables with larger values \n",
    "- The mean of MSEs is more stable, because Data Normalization brings in a lower standard deviation of MSEs compared to what's seen from part A.\n",
    "- The mean of MSEs is the same, because the model architecture is the same. "
   ]
  },
  {
   "cell_type": "markdown",
   "metadata": {},
   "source": [
    "#### Part C:\n",
    "- Epoch increased from 50 to 100, and this result in both mean and standard deviation of MSEs reduced significantly at the same time.\n",
    "- Greater number of epochs means the more data feed in and the longer training time can allow the model learn more patterns  from the inputs."
   ]
  },
  {
   "cell_type": "markdown",
   "metadata": {},
   "source": [
    "#### Part D:\n",
    "    - Mean and Standard Deviation of MSEs are the reduced significantly. \n",
    "    - Maybe because the more hidden layers helps."
   ]
  }
 ],
 "metadata": {
  "kernelspec": {
   "display_name": "Python 3",
   "language": "python",
   "name": "python3"
  },
  "language_info": {
   "codemirror_mode": {
    "name": "ipython",
    "version": 3
   },
   "file_extension": ".py",
   "mimetype": "text/x-python",
   "name": "python",
   "nbconvert_exporter": "python",
   "pygments_lexer": "ipython3",
   "version": "3.7.3"
  }
 },
 "nbformat": 4,
 "nbformat_minor": 2
}
